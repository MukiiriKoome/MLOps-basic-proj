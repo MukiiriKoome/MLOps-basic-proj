{
  "nbformat": 4,
  "nbformat_minor": 0,
  "metadata": {
    "colab": {
      "provenance": []
    },
    "kernelspec": {
      "name": "python3",
      "display_name": "Python 3"
    },
    "language_info": {
      "name": "python"
    }
  },
  "cells": [
    {
      "cell_type": "markdown",
      "source": [
        "Training source code"
      ],
      "metadata": {
        "id": "f_T_UOwW2IDj"
      }
    },
    {
      "cell_type": "code",
      "source": [],
      "metadata": {
        "id": "deVVBEgJ2PEN"
      },
      "execution_count": null,
      "outputs": []
    }
  ]
}